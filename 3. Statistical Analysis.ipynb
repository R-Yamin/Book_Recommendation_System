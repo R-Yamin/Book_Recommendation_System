{
 "cells": [
  {
   "cell_type": "markdown",
   "metadata": {},
   "source": [
    "# Statistical Analysis of Goodreads Dataset\n",
    "Since the dataset does not have individual user data, a recommendation system from here will have to be content based. Exploring the statistics of the data, such as the average ratings and the number of text reviews, will help shape the idea of which pieces of the data can be used to generate the recommendations."
   ]
  },
  {
   "cell_type": "code",
   "execution_count": 1,
   "metadata": {},
   "outputs": [],
   "source": [
    "# Import Modules and Libraries\n",
    "import numpy as np\n",
    "import pandas as pd\n",
    "import matplotlib.pyplot as plt\n",
    "from scipy.stats import pearsonr"
   ]
  },
  {
   "cell_type": "code",
   "execution_count": 2,
   "metadata": {},
   "outputs": [
    {
     "data": {
      "text/html": [
       "<div>\n",
       "<style scoped>\n",
       "    .dataframe tbody tr th:only-of-type {\n",
       "        vertical-align: middle;\n",
       "    }\n",
       "\n",
       "    .dataframe tbody tr th {\n",
       "        vertical-align: top;\n",
       "    }\n",
       "\n",
       "    .dataframe thead th {\n",
       "        text-align: right;\n",
       "    }\n",
       "</style>\n",
       "<table border=\"1\" class=\"dataframe\">\n",
       "  <thead>\n",
       "    <tr style=\"text-align: right;\">\n",
       "      <th></th>\n",
       "      <th>bookID</th>\n",
       "      <th>title</th>\n",
       "      <th>primary_a</th>\n",
       "      <th>secondary_a</th>\n",
       "      <th>average_rating</th>\n",
       "      <th>isbn</th>\n",
       "      <th>isbn13</th>\n",
       "      <th>language_code</th>\n",
       "      <th># num_pages</th>\n",
       "      <th>ratings_count</th>\n",
       "      <th>text_reviews_count</th>\n",
       "    </tr>\n",
       "  </thead>\n",
       "  <tbody>\n",
       "    <tr>\n",
       "      <th>0</th>\n",
       "      <td>1</td>\n",
       "      <td>Harry Potter and the Half-Blood Prince (Harry ...</td>\n",
       "      <td>J.K. Rowling</td>\n",
       "      <td>Mary GrandPré</td>\n",
       "      <td>4.56</td>\n",
       "      <td>0439785960</td>\n",
       "      <td>9780439785969</td>\n",
       "      <td>eng</td>\n",
       "      <td>652</td>\n",
       "      <td>1944099</td>\n",
       "      <td>26249</td>\n",
       "    </tr>\n",
       "    <tr>\n",
       "      <th>1</th>\n",
       "      <td>2</td>\n",
       "      <td>Harry Potter and the Order of the Phoenix (Har...</td>\n",
       "      <td>J.K. Rowling</td>\n",
       "      <td>Mary GrandPré</td>\n",
       "      <td>4.49</td>\n",
       "      <td>0439358078</td>\n",
       "      <td>9780439358071</td>\n",
       "      <td>eng</td>\n",
       "      <td>870</td>\n",
       "      <td>1996446</td>\n",
       "      <td>27613</td>\n",
       "    </tr>\n",
       "    <tr>\n",
       "      <th>2</th>\n",
       "      <td>3</td>\n",
       "      <td>Harry Potter and the Sorcerer's Stone (Harry P...</td>\n",
       "      <td>J.K. Rowling</td>\n",
       "      <td>Mary GrandPré</td>\n",
       "      <td>4.47</td>\n",
       "      <td>0439554934</td>\n",
       "      <td>9780439554930</td>\n",
       "      <td>eng</td>\n",
       "      <td>320</td>\n",
       "      <td>5629932</td>\n",
       "      <td>70390</td>\n",
       "    </tr>\n",
       "    <tr>\n",
       "      <th>3</th>\n",
       "      <td>4</td>\n",
       "      <td>Harry Potter and the Chamber of Secrets (Harry...</td>\n",
       "      <td>J.K. Rowling</td>\n",
       "      <td>NaN</td>\n",
       "      <td>4.41</td>\n",
       "      <td>0439554896</td>\n",
       "      <td>9780439554893</td>\n",
       "      <td>eng</td>\n",
       "      <td>352</td>\n",
       "      <td>6267</td>\n",
       "      <td>272</td>\n",
       "    </tr>\n",
       "    <tr>\n",
       "      <th>4</th>\n",
       "      <td>5</td>\n",
       "      <td>Harry Potter and the Prisoner of Azkaban (Harr...</td>\n",
       "      <td>J.K. Rowling</td>\n",
       "      <td>Mary GrandPré</td>\n",
       "      <td>4.55</td>\n",
       "      <td>043965548X</td>\n",
       "      <td>9780439655484</td>\n",
       "      <td>eng</td>\n",
       "      <td>435</td>\n",
       "      <td>2149872</td>\n",
       "      <td>33964</td>\n",
       "    </tr>\n",
       "  </tbody>\n",
       "</table>\n",
       "</div>"
      ],
      "text/plain": [
       "   bookID                                              title     primary_a  \\\n",
       "0       1  Harry Potter and the Half-Blood Prince (Harry ...  J.K. Rowling   \n",
       "1       2  Harry Potter and the Order of the Phoenix (Har...  J.K. Rowling   \n",
       "2       3  Harry Potter and the Sorcerer's Stone (Harry P...  J.K. Rowling   \n",
       "3       4  Harry Potter and the Chamber of Secrets (Harry...  J.K. Rowling   \n",
       "4       5  Harry Potter and the Prisoner of Azkaban (Harr...  J.K. Rowling   \n",
       "\n",
       "     secondary_a  average_rating        isbn         isbn13 language_code  \\\n",
       "0  Mary GrandPré            4.56  0439785960  9780439785969           eng   \n",
       "1  Mary GrandPré            4.49  0439358078  9780439358071           eng   \n",
       "2  Mary GrandPré            4.47  0439554934  9780439554930           eng   \n",
       "3            NaN            4.41  0439554896  9780439554893           eng   \n",
       "4  Mary GrandPré            4.55  043965548X  9780439655484           eng   \n",
       "\n",
       "   # num_pages  ratings_count  text_reviews_count  \n",
       "0          652        1944099               26249  \n",
       "1          870        1996446               27613  \n",
       "2          320        5629932               70390  \n",
       "3          352           6267                 272  \n",
       "4          435        2149872               33964  "
      ]
     },
     "execution_count": 2,
     "metadata": {},
     "output_type": "execute_result"
    }
   ],
   "source": [
    "# Import clean dataset as df\n",
    "df = pd.read_csv('Clean_data\\clean_books.csv').drop(columns = 'Unnamed: 0')\n",
    "df.head()"
   ]
  },
  {
   "cell_type": "code",
   "execution_count": 3,
   "metadata": {
    "scrolled": true
   },
   "outputs": [
    {
     "data": {
      "image/png": "[encoded data removed]",
      "text/plain": [
       "<Figure size 720x432 with 1 Axes>"
      ]
     },
     "metadata": {
      "needs_background": "light"
     },
     "output_type": "display_data"
    }
   ],
   "source": [
    "# Observing distribution of average ratings\n",
    "\n",
    "# Obtain mean of average ratings\n",
    "mean = np.mean(df.average_rating)\n",
    "\n",
    "# Standard deviation\n",
    "std = np.std(df.average_rating, ddof=1)\n",
    "\n",
    "# Plot histogram distrbtuion with mean and standard deviations\n",
    "plt.subplots(figsize=(10,6))\n",
    "plt.hist(df.average_rating, bins='auto', density=True)\n",
    "plt.title('Distribution of the Average Ratings')\n",
    "plt.axvline(mean, color='r')\n",
    "plt.axvline(mean+std, color='r', linestyle='--')\n",
    "plt.axvline(mean-std, color='r', linestyle='--')\n",
    "plt.xlabel('Rating of a book')\n",
    "plt.ylabel('Frequency of Rating')\n",
    "plt.show()"
   ]
  },
  {
   "cell_type": "markdown",
   "metadata": {},
   "source": [
    "The graph shows the distribution of the average ratings and has the mean marked with a solid red line. The mean is actually around 3.9 with a standard deviation of about 0.36. We can see that most of the data actually falls within + and - the standard deviation. Below, we look at the CDF to show a further breakdown of the histogram."
   ]
  },
  {
   "cell_type": "code",
   "execution_count": 4,
   "metadata": {
    "scrolled": true
   },
   "outputs": [
    {
     "data": {
      "image/png": "[encoded data removed]",
      "text/plain": [
       "<Figure size 432x288 with 1 Axes>"
      ]
     },
     "metadata": {
      "needs_background": "light"
     },
     "output_type": "display_data"
    }
   ],
   "source": [
    "# create ECDF\n",
    "ratings = df.average_rating\n",
    "\n",
    "# Define ECDF\n",
    "def ecdf(data):\n",
    "    n = len(data)\n",
    "    \n",
    "    x = np.sort(data)\n",
    "    \n",
    "    y = np.arange(1, 1+n)/n\n",
    "    \n",
    "    return x, y\n",
    "\n",
    "# plot ECDF\n",
    "\n",
    "x_reveiws, y_reviews = ecdf(ratings)\n",
    "\n",
    "plt.plot(x_reveiws, y_reviews, marker= '.', linestyle='none')\n",
    "plt.xlabel('Average Rating')\n",
    "plt.ylabel('ECDF')\n",
    "plt.axhline(0.5)\n",
    "plt.title('ECDF of Average Ratings of Books')\n",
    "plt.show()"
   ]
  },
  {
   "cell_type": "markdown",
   "metadata": {},
   "source": [
    "The plot is far to the right side of the graph, indicating that most of the ratings are actually close to 4. A line was added at the 50% mark to further emphasize the mean and standard deviation data above."
   ]
  },
  {
   "cell_type": "code",
   "execution_count": 5,
   "metadata": {
    "scrolled": true
   },
   "outputs": [
    {
     "name": "stdout",
     "output_type": "stream",
     "text": [
      "The pearson correlation is 0.04123415446545705 and the p-value is 1.3624977303641972e-06\n"
     ]
    }
   ],
   "source": [
    "# Pearson correlation of average rating and ratings count\n",
    "corr_1, p_val_1 = pearsonr(df.average_rating, df.ratings_count)\n",
    "print(f'The pearson correlation is {corr_1} and the p-value is {p_val_1}')"
   ]
  },
  {
   "cell_type": "code",
   "execution_count": 6,
   "metadata": {},
   "outputs": [
    {
     "name": "stdout",
     "output_type": "stream",
     "text": [
      "The pearson correlation is 0.8634672605242154 and the p-value is 0.0\n"
     ]
    }
   ],
   "source": [
    "# Pearson correlation of ratings count and total text reviews\n",
    "corr_2, p_val_2 = pearsonr(df.ratings_count, df.text_reviews_count)\n",
    "print(f'The pearson correlation is {corr_2} and the p-value is {p_val_2}')"
   ]
  },
  {
   "cell_type": "markdown",
   "metadata": {},
   "source": [
    "Looking above, we see that there does not seem to be much of a correlation between the average rating for a book and the amount of ratings it recieved, especially compared to the correlation of total rating and total text reviews. However, the correlation between the average rating and rating count is still higher than any of the other significant comparison pairs to base a recommendaion system."
   ]
  }
 ],
 "metadata": {
  "kernelspec": {
   "display_name": "Python 3",
   "language": "python",
   "name": "python3"
  },
  "language_info": {
   "codemirror_mode": {
    "name": "ipython",
    "version": 3
   },
   "file_extension": ".py",
   "mimetype": "text/x-python",
   "name": "python",
   "nbconvert_exporter": "python",
   "pygments_lexer": "ipython3",
   "version": "3.7.3"
  }
 },
 "nbformat": 4,
 "nbformat_minor": 2
}
